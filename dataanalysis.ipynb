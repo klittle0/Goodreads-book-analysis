{
 "cells": [
  {
   "cell_type": "markdown",
   "metadata": {},
   "source": [
    "## Goodreads Data Analysis"
   ]
  },
  {
   "cell_type": "markdown",
   "metadata": {},
   "source": [
    "## Open Libraries"
   ]
  },
  {
   "cell_type": "code",
   "execution_count": 15,
   "metadata": {},
   "outputs": [],
   "source": [
    "import pandas as pd\n",
    "import matplotlib.pyplot as plt \n",
    "import seaborn as sns\n",
    "\n"
   ]
  },
  {
   "cell_type": "markdown",
   "metadata": {},
   "source": [
    "## Data Exploration"
   ]
  },
  {
   "cell_type": "markdown",
   "metadata": {},
   "source": [
    "load the data set"
   ]
  },
  {
   "cell_type": "code",
   "execution_count": 16,
   "metadata": {},
   "outputs": [
    {
     "name": "stdout",
     "output_type": "stream",
     "text": [
      "<class 'pandas.core.frame.DataFrame'>\n",
      "RangeIndex: 100000 entries, 0 to 99999\n",
      "Data columns (total 13 columns):\n",
      " #   Column        Non-Null Count   Dtype  \n",
      "---  ------        --------------   -----  \n",
      " 0   author        100000 non-null  object \n",
      " 1   bookformat    96772 non-null   object \n",
      " 2   desc          93228 non-null   object \n",
      " 3   genre         89533 non-null   object \n",
      " 4   img           96955 non-null   object \n",
      " 5   isbn          85518 non-null   object \n",
      " 6   isbn13        88565 non-null   object \n",
      " 7   link          100000 non-null  object \n",
      " 8   pages         100000 non-null  int64  \n",
      " 9   rating        100000 non-null  float64\n",
      " 10  reviews       100000 non-null  int64  \n",
      " 11  title         99999 non-null   object \n",
      " 12  totalratings  100000 non-null  int64  \n",
      "dtypes: float64(1), int64(3), object(9)\n",
      "memory usage: 9.9+ MB\n"
     ]
    }
   ],
   "source": [
    "df = pd.read_csv(\"data/GoodReads_100k_books.csv\")\n",
    "df.info()"
   ]
  },
  {
   "cell_type": "markdown",
   "metadata": {},
   "source": [
    "## better understanding the columns"
   ]
  },
  {
   "cell_type": "code",
   "execution_count": 17,
   "metadata": {},
   "outputs": [
    {
     "data": {
      "text/html": [
       "<div>\n",
       "<style scoped>\n",
       "    .dataframe tbody tr th:only-of-type {\n",
       "        vertical-align: middle;\n",
       "    }\n",
       "\n",
       "    .dataframe tbody tr th {\n",
       "        vertical-align: top;\n",
       "    }\n",
       "\n",
       "    .dataframe thead th {\n",
       "        text-align: right;\n",
       "    }\n",
       "</style>\n",
       "<table border=\"1\" class=\"dataframe\">\n",
       "  <thead>\n",
       "    <tr style=\"text-align: right;\">\n",
       "      <th></th>\n",
       "      <th>author</th>\n",
       "      <th>bookformat</th>\n",
       "      <th>desc</th>\n",
       "      <th>genre</th>\n",
       "      <th>img</th>\n",
       "      <th>isbn</th>\n",
       "      <th>isbn13</th>\n",
       "      <th>link</th>\n",
       "      <th>pages</th>\n",
       "      <th>rating</th>\n",
       "      <th>reviews</th>\n",
       "      <th>title</th>\n",
       "      <th>totalratings</th>\n",
       "    </tr>\n",
       "  </thead>\n",
       "  <tbody>\n",
       "    <tr>\n",
       "      <th>0</th>\n",
       "      <td>False</td>\n",
       "      <td>False</td>\n",
       "      <td>False</td>\n",
       "      <td>False</td>\n",
       "      <td>False</td>\n",
       "      <td>False</td>\n",
       "      <td>False</td>\n",
       "      <td>False</td>\n",
       "      <td>False</td>\n",
       "      <td>False</td>\n",
       "      <td>False</td>\n",
       "      <td>False</td>\n",
       "      <td>False</td>\n",
       "    </tr>\n",
       "    <tr>\n",
       "      <th>1</th>\n",
       "      <td>False</td>\n",
       "      <td>False</td>\n",
       "      <td>False</td>\n",
       "      <td>False</td>\n",
       "      <td>False</td>\n",
       "      <td>False</td>\n",
       "      <td>False</td>\n",
       "      <td>False</td>\n",
       "      <td>False</td>\n",
       "      <td>False</td>\n",
       "      <td>False</td>\n",
       "      <td>False</td>\n",
       "      <td>False</td>\n",
       "    </tr>\n",
       "    <tr>\n",
       "      <th>2</th>\n",
       "      <td>False</td>\n",
       "      <td>False</td>\n",
       "      <td>False</td>\n",
       "      <td>False</td>\n",
       "      <td>False</td>\n",
       "      <td>False</td>\n",
       "      <td>False</td>\n",
       "      <td>False</td>\n",
       "      <td>False</td>\n",
       "      <td>False</td>\n",
       "      <td>False</td>\n",
       "      <td>False</td>\n",
       "      <td>False</td>\n",
       "    </tr>\n",
       "    <tr>\n",
       "      <th>3</th>\n",
       "      <td>False</td>\n",
       "      <td>False</td>\n",
       "      <td>False</td>\n",
       "      <td>False</td>\n",
       "      <td>False</td>\n",
       "      <td>False</td>\n",
       "      <td>False</td>\n",
       "      <td>False</td>\n",
       "      <td>False</td>\n",
       "      <td>False</td>\n",
       "      <td>False</td>\n",
       "      <td>False</td>\n",
       "      <td>False</td>\n",
       "    </tr>\n",
       "    <tr>\n",
       "      <th>4</th>\n",
       "      <td>False</td>\n",
       "      <td>True</td>\n",
       "      <td>False</td>\n",
       "      <td>True</td>\n",
       "      <td>False</td>\n",
       "      <td>False</td>\n",
       "      <td>True</td>\n",
       "      <td>False</td>\n",
       "      <td>False</td>\n",
       "      <td>False</td>\n",
       "      <td>False</td>\n",
       "      <td>False</td>\n",
       "      <td>False</td>\n",
       "    </tr>\n",
       "    <tr>\n",
       "      <th>...</th>\n",
       "      <td>...</td>\n",
       "      <td>...</td>\n",
       "      <td>...</td>\n",
       "      <td>...</td>\n",
       "      <td>...</td>\n",
       "      <td>...</td>\n",
       "      <td>...</td>\n",
       "      <td>...</td>\n",
       "      <td>...</td>\n",
       "      <td>...</td>\n",
       "      <td>...</td>\n",
       "      <td>...</td>\n",
       "      <td>...</td>\n",
       "    </tr>\n",
       "    <tr>\n",
       "      <th>99995</th>\n",
       "      <td>False</td>\n",
       "      <td>False</td>\n",
       "      <td>False</td>\n",
       "      <td>True</td>\n",
       "      <td>False</td>\n",
       "      <td>False</td>\n",
       "      <td>False</td>\n",
       "      <td>False</td>\n",
       "      <td>False</td>\n",
       "      <td>False</td>\n",
       "      <td>False</td>\n",
       "      <td>False</td>\n",
       "      <td>False</td>\n",
       "    </tr>\n",
       "    <tr>\n",
       "      <th>99996</th>\n",
       "      <td>False</td>\n",
       "      <td>False</td>\n",
       "      <td>False</td>\n",
       "      <td>True</td>\n",
       "      <td>False</td>\n",
       "      <td>False</td>\n",
       "      <td>False</td>\n",
       "      <td>False</td>\n",
       "      <td>False</td>\n",
       "      <td>False</td>\n",
       "      <td>False</td>\n",
       "      <td>False</td>\n",
       "      <td>False</td>\n",
       "    </tr>\n",
       "    <tr>\n",
       "      <th>99997</th>\n",
       "      <td>False</td>\n",
       "      <td>False</td>\n",
       "      <td>False</td>\n",
       "      <td>False</td>\n",
       "      <td>False</td>\n",
       "      <td>False</td>\n",
       "      <td>False</td>\n",
       "      <td>False</td>\n",
       "      <td>False</td>\n",
       "      <td>False</td>\n",
       "      <td>False</td>\n",
       "      <td>False</td>\n",
       "      <td>False</td>\n",
       "    </tr>\n",
       "    <tr>\n",
       "      <th>99998</th>\n",
       "      <td>False</td>\n",
       "      <td>False</td>\n",
       "      <td>False</td>\n",
       "      <td>False</td>\n",
       "      <td>False</td>\n",
       "      <td>False</td>\n",
       "      <td>False</td>\n",
       "      <td>False</td>\n",
       "      <td>False</td>\n",
       "      <td>False</td>\n",
       "      <td>False</td>\n",
       "      <td>False</td>\n",
       "      <td>False</td>\n",
       "    </tr>\n",
       "    <tr>\n",
       "      <th>99999</th>\n",
       "      <td>False</td>\n",
       "      <td>False</td>\n",
       "      <td>False</td>\n",
       "      <td>False</td>\n",
       "      <td>False</td>\n",
       "      <td>False</td>\n",
       "      <td>False</td>\n",
       "      <td>False</td>\n",
       "      <td>False</td>\n",
       "      <td>False</td>\n",
       "      <td>False</td>\n",
       "      <td>False</td>\n",
       "      <td>False</td>\n",
       "    </tr>\n",
       "  </tbody>\n",
       "</table>\n",
       "<p>100000 rows × 13 columns</p>\n",
       "</div>"
      ],
      "text/plain": [
       "       author  bookformat   desc  genre    img   isbn  isbn13   link  pages  \\\n",
       "0       False       False  False  False  False  False   False  False  False   \n",
       "1       False       False  False  False  False  False   False  False  False   \n",
       "2       False       False  False  False  False  False   False  False  False   \n",
       "3       False       False  False  False  False  False   False  False  False   \n",
       "4       False        True  False   True  False  False    True  False  False   \n",
       "...       ...         ...    ...    ...    ...    ...     ...    ...    ...   \n",
       "99995   False       False  False   True  False  False   False  False  False   \n",
       "99996   False       False  False   True  False  False   False  False  False   \n",
       "99997   False       False  False  False  False  False   False  False  False   \n",
       "99998   False       False  False  False  False  False   False  False  False   \n",
       "99999   False       False  False  False  False  False   False  False  False   \n",
       "\n",
       "       rating  reviews  title  totalratings  \n",
       "0       False    False  False         False  \n",
       "1       False    False  False         False  \n",
       "2       False    False  False         False  \n",
       "3       False    False  False         False  \n",
       "4       False    False  False         False  \n",
       "...       ...      ...    ...           ...  \n",
       "99995   False    False  False         False  \n",
       "99996   False    False  False         False  \n",
       "99997   False    False  False         False  \n",
       "99998   False    False  False         False  \n",
       "99999   False    False  False         False  \n",
       "\n",
       "[100000 rows x 13 columns]"
      ]
     },
     "execution_count": 17,
     "metadata": {},
     "output_type": "execute_result"
    }
   ],
   "source": [
    "# Finds null values value \n",
    "df.isna()"
   ]
  },
  {
   "cell_type": "code",
   "execution_count": 18,
   "metadata": {},
   "outputs": [
    {
     "data": {
      "text/html": [
       "<div>\n",
       "<style scoped>\n",
       "    .dataframe tbody tr th:only-of-type {\n",
       "        vertical-align: middle;\n",
       "    }\n",
       "\n",
       "    .dataframe tbody tr th {\n",
       "        vertical-align: top;\n",
       "    }\n",
       "\n",
       "    .dataframe thead th {\n",
       "        text-align: right;\n",
       "    }\n",
       "</style>\n",
       "<table border=\"1\" class=\"dataframe\">\n",
       "  <thead>\n",
       "    <tr style=\"text-align: right;\">\n",
       "      <th></th>\n",
       "      <th>author</th>\n",
       "      <th>bookformat</th>\n",
       "      <th>desc</th>\n",
       "      <th>genre</th>\n",
       "      <th>img</th>\n",
       "      <th>isbn</th>\n",
       "      <th>isbn13</th>\n",
       "      <th>link</th>\n",
       "      <th>pages</th>\n",
       "      <th>rating</th>\n",
       "      <th>reviews</th>\n",
       "      <th>title</th>\n",
       "      <th>totalratings</th>\n",
       "    </tr>\n",
       "  </thead>\n",
       "  <tbody>\n",
       "    <tr>\n",
       "      <th>5636</th>\n",
       "      <td>Scot McKnight</td>\n",
       "      <td>Hardcover</td>\n",
       "      <td>The NIV Application Commentary helps you commu...</td>\n",
       "      <td>Reference,Christianity,New Testament,Christian</td>\n",
       "      <td>https://i.gr-assets.com/images/S/compressed.ph...</td>\n",
       "      <td>310492904</td>\n",
       "      <td>9.78E+12</td>\n",
       "      <td>https://goodreads.com/book/show/1037860.1_Peter</td>\n",
       "      <td>304</td>\n",
       "      <td>4.09</td>\n",
       "      <td>9</td>\n",
       "      <td>1 Peter</td>\n",
       "      <td>87</td>\n",
       "    </tr>\n",
       "    <tr>\n",
       "      <th>24553</th>\n",
       "      <td>Wayne Grudem</td>\n",
       "      <td>Paperback</td>\n",
       "      <td>Grudem's work on the Epistle of I Peter is a c...</td>\n",
       "      <td>Reference,Religion,Theology,Christianity,New T...</td>\n",
       "      <td>https://i.gr-assets.com/images/S/compressed.ph...</td>\n",
       "      <td>802804071</td>\n",
       "      <td>9.78E+12</td>\n",
       "      <td>https://goodreads.com/book/show/1167262.1_Peter</td>\n",
       "      <td>239</td>\n",
       "      <td>4.06</td>\n",
       "      <td>10</td>\n",
       "      <td>1 Peter</td>\n",
       "      <td>204</td>\n",
       "    </tr>\n",
       "    <tr>\n",
       "      <th>86381</th>\n",
       "      <td>Franklin Hamilton,Robert Silverberg,Judith Ann...</td>\n",
       "      <td>Library Binding</td>\n",
       "      <td>When Edward the Confessor, King of England, di...</td>\n",
       "      <td>History</td>\n",
       "      <td>https://i.gr-assets.com/images/S/compressed.ph...</td>\n",
       "      <td>NaN</td>\n",
       "      <td>NaN</td>\n",
       "      <td>https://goodreads.com/book/show/16111897-1066</td>\n",
       "      <td>212</td>\n",
       "      <td>4.43</td>\n",
       "      <td>1</td>\n",
       "      <td>1066</td>\n",
       "      <td>7</td>\n",
       "    </tr>\n",
       "    <tr>\n",
       "      <th>61343</th>\n",
       "      <td>Frank McLynn</td>\n",
       "      <td>Paperback</td>\n",
       "      <td>Everyone knows what William the Conqueror won ...</td>\n",
       "      <td>History,Nonfiction,European Literature,British...</td>\n",
       "      <td>https://i.gr-assets.com/images/S/compressed.ph...</td>\n",
       "      <td>712666729</td>\n",
       "      <td>9.78071E+12</td>\n",
       "      <td>https://goodreads.com/book/show/138850.1066</td>\n",
       "      <td>336</td>\n",
       "      <td>4.01</td>\n",
       "      <td>24</td>\n",
       "      <td>1066</td>\n",
       "      <td>187</td>\n",
       "    </tr>\n",
       "    <tr>\n",
       "      <th>85038</th>\n",
       "      <td>Jean Echenoz</td>\n",
       "      <td>Paperback</td>\n",
       "      <td>Cinq hommes sont partis Ã  la guerre, une femm...</td>\n",
       "      <td>Fiction,Historical,Historical Fiction,Cultural...</td>\n",
       "      <td>https://i.gr-assets.com/images/S/compressed.ph...</td>\n",
       "      <td>2707322571</td>\n",
       "      <td>9.78271E+12</td>\n",
       "      <td>https://goodreads.com/book/show/16071333-14</td>\n",
       "      <td>124</td>\n",
       "      <td>3.53</td>\n",
       "      <td>247</td>\n",
       "      <td>14</td>\n",
       "      <td>1648</td>\n",
       "    </tr>\n",
       "    <tr>\n",
       "      <th>...</th>\n",
       "      <td>...</td>\n",
       "      <td>...</td>\n",
       "      <td>...</td>\n",
       "      <td>...</td>\n",
       "      <td>...</td>\n",
       "      <td>...</td>\n",
       "      <td>...</td>\n",
       "      <td>...</td>\n",
       "      <td>...</td>\n",
       "      <td>...</td>\n",
       "      <td>...</td>\n",
       "      <td>...</td>\n",
       "      <td>...</td>\n",
       "    </tr>\n",
       "    <tr>\n",
       "      <th>23325</th>\n",
       "      <td>P.L. Deshpande,à¤ªà¥.à¤². à¤¦à¥‡à¤¶à¤ªà¤¾à¤‚à...</td>\n",
       "      <td>Paperback</td>\n",
       "      <td>Vyakti Aani Vyalli is a collection of characte...</td>\n",
       "      <td>Literature,Marathi,Humor,Classics,Fiction,Cult...</td>\n",
       "      <td>https://i.gr-assets.com/images/S/compressed.ph...</td>\n",
       "      <td>8174868984</td>\n",
       "      <td>9.79E+12</td>\n",
       "      <td>https://goodreads.com/book/show/11553117</td>\n",
       "      <td>202</td>\n",
       "      <td>4.44</td>\n",
       "      <td>117</td>\n",
       "      <td>à¤µà¥à¤¯à¤•à¥à¤¤à¥€ à¤†à¤£à¤¿ à¤µà¤²à¥à¤²à¥€</td>\n",
       "      <td>3013</td>\n",
       "    </tr>\n",
       "    <tr>\n",
       "      <th>98008</th>\n",
       "      <td>Levan Gotua</td>\n",
       "      <td>Hardcover</td>\n",
       "      <td>áƒ áƒáƒ›áƒáƒœáƒ¨áƒ˜ áƒáƒ¡áƒáƒ®áƒ£áƒšáƒ˜áƒ...</td>\n",
       "      <td>Historical,Georgian</td>\n",
       "      <td>https://i.gr-assets.com/images/S/compressed.ph...</td>\n",
       "      <td>NaN</td>\n",
       "      <td>9.78994E+12</td>\n",
       "      <td>https://goodreads.com/book/show/17241707</td>\n",
       "      <td>768</td>\n",
       "      <td>4.59</td>\n",
       "      <td>5</td>\n",
       "      <td>áƒ’áƒ›áƒ˜áƒ áƒ—áƒ áƒ•áƒáƒ áƒáƒ›áƒ˜</td>\n",
       "      <td>59</td>\n",
       "    </tr>\n",
       "    <tr>\n",
       "      <th>98009</th>\n",
       "      <td>Levan Gotua</td>\n",
       "      <td>Hardcover</td>\n",
       "      <td>áƒ áƒáƒ›áƒáƒœáƒ¨áƒ˜ áƒáƒ¡áƒáƒ®áƒ£áƒšáƒ˜áƒ...</td>\n",
       "      <td>Historical,Georgian</td>\n",
       "      <td>https://i.gr-assets.com/images/S/compressed.ph...</td>\n",
       "      <td>NaN</td>\n",
       "      <td>9.78994E+12</td>\n",
       "      <td>https://goodreads.com/book/show/17241732</td>\n",
       "      <td>590</td>\n",
       "      <td>4.52</td>\n",
       "      <td>2</td>\n",
       "      <td>áƒ’áƒ›áƒ˜áƒ áƒ—áƒ áƒ•áƒáƒ áƒáƒ›áƒ˜</td>\n",
       "      <td>29</td>\n",
       "    </tr>\n",
       "    <tr>\n",
       "      <th>97125</th>\n",
       "      <td>Nodar Dumbadze</td>\n",
       "      <td>Hardcover</td>\n",
       "      <td>áƒ¨áƒ˜áƒœáƒáƒáƒ áƒ¡áƒ˜: áƒ™áƒ£áƒ™áƒáƒ áƒáƒ...</td>\n",
       "      <td>Historical,Georgian</td>\n",
       "      <td>NaN</td>\n",
       "      <td>NaN</td>\n",
       "      <td>NaN</td>\n",
       "      <td>https://goodreads.com/book/show/17193415</td>\n",
       "      <td>525</td>\n",
       "      <td>4.47</td>\n",
       "      <td>6</td>\n",
       "      <td>áƒ›áƒáƒ—áƒ®áƒ áƒáƒ‘áƒ”áƒ‘áƒ˜</td>\n",
       "      <td>135</td>\n",
       "    </tr>\n",
       "    <tr>\n",
       "      <th>51898</th>\n",
       "      <td>Goderdzi Chokheli</td>\n",
       "      <td>Paperback</td>\n",
       "      <td>áƒ™áƒ áƒ”áƒ‘áƒ£áƒšáƒ¨áƒ˜ áƒ¨áƒ”áƒ•áƒ˜áƒ“áƒ áƒ...</td>\n",
       "      <td>Historical,Georgian,Fiction</td>\n",
       "      <td>https://i.gr-assets.com/images/S/compressed.ph...</td>\n",
       "      <td>9994072412</td>\n",
       "      <td>NaN</td>\n",
       "      <td>https://goodreads.com/book/show/13450646</td>\n",
       "      <td>116</td>\n",
       "      <td>4.48</td>\n",
       "      <td>5</td>\n",
       "      <td>áƒ›áƒáƒ—áƒ®áƒ áƒáƒ‘áƒ”áƒ‘áƒ˜</td>\n",
       "      <td>198</td>\n",
       "    </tr>\n",
       "  </tbody>\n",
       "</table>\n",
       "<p>4076 rows × 13 columns</p>\n",
       "</div>"
      ],
      "text/plain": [
       "                                                  author       bookformat  \\\n",
       "5636                                       Scot McKnight        Hardcover   \n",
       "24553                                       Wayne Grudem        Paperback   \n",
       "86381  Franklin Hamilton,Robert Silverberg,Judith Ann...  Library Binding   \n",
       "61343                                       Frank McLynn        Paperback   \n",
       "85038                                       Jean Echenoz        Paperback   \n",
       "...                                                  ...              ...   \n",
       "23325  P.L. Deshpande,à¤ªà¥.à¤². à¤¦à¥‡à¤¶à¤ªà¤¾à¤‚à...        Paperback   \n",
       "98008                                        Levan Gotua        Hardcover   \n",
       "98009                                        Levan Gotua        Hardcover   \n",
       "97125                                     Nodar Dumbadze        Hardcover   \n",
       "51898                                  Goderdzi Chokheli        Paperback   \n",
       "\n",
       "                                                    desc  \\\n",
       "5636   The NIV Application Commentary helps you commu...   \n",
       "24553  Grudem's work on the Epistle of I Peter is a c...   \n",
       "86381  When Edward the Confessor, King of England, di...   \n",
       "61343  Everyone knows what William the Conqueror won ...   \n",
       "85038  Cinq hommes sont partis Ã  la guerre, une femm...   \n",
       "...                                                  ...   \n",
       "23325  Vyakti Aani Vyalli is a collection of characte...   \n",
       "98008  áƒ áƒáƒ›áƒáƒœáƒ¨áƒ˜ áƒáƒ¡áƒáƒ®áƒ£áƒšáƒ˜áƒ...   \n",
       "98009  áƒ áƒáƒ›áƒáƒœáƒ¨áƒ˜ áƒáƒ¡áƒáƒ®áƒ£áƒšáƒ˜áƒ...   \n",
       "97125  áƒ¨áƒ˜áƒœáƒáƒáƒ áƒ¡áƒ˜: áƒ™áƒ£áƒ™áƒáƒ áƒáƒ...   \n",
       "51898  áƒ™áƒ áƒ”áƒ‘áƒ£áƒšáƒ¨áƒ˜ áƒ¨áƒ”áƒ•áƒ˜áƒ“áƒ áƒ...   \n",
       "\n",
       "                                                   genre  \\\n",
       "5636      Reference,Christianity,New Testament,Christian   \n",
       "24553  Reference,Religion,Theology,Christianity,New T...   \n",
       "86381                                            History   \n",
       "61343  History,Nonfiction,European Literature,British...   \n",
       "85038  Fiction,Historical,Historical Fiction,Cultural...   \n",
       "...                                                  ...   \n",
       "23325  Literature,Marathi,Humor,Classics,Fiction,Cult...   \n",
       "98008                                Historical,Georgian   \n",
       "98009                                Historical,Georgian   \n",
       "97125                                Historical,Georgian   \n",
       "51898                        Historical,Georgian,Fiction   \n",
       "\n",
       "                                                     img        isbn  \\\n",
       "5636   https://i.gr-assets.com/images/S/compressed.ph...   310492904   \n",
       "24553  https://i.gr-assets.com/images/S/compressed.ph...   802804071   \n",
       "86381  https://i.gr-assets.com/images/S/compressed.ph...         NaN   \n",
       "61343  https://i.gr-assets.com/images/S/compressed.ph...   712666729   \n",
       "85038  https://i.gr-assets.com/images/S/compressed.ph...  2707322571   \n",
       "...                                                  ...         ...   \n",
       "23325  https://i.gr-assets.com/images/S/compressed.ph...  8174868984   \n",
       "98008  https://i.gr-assets.com/images/S/compressed.ph...         NaN   \n",
       "98009  https://i.gr-assets.com/images/S/compressed.ph...         NaN   \n",
       "97125                                                NaN         NaN   \n",
       "51898  https://i.gr-assets.com/images/S/compressed.ph...  9994072412   \n",
       "\n",
       "            isbn13                                             link  pages  \\\n",
       "5636      9.78E+12  https://goodreads.com/book/show/1037860.1_Peter    304   \n",
       "24553     9.78E+12  https://goodreads.com/book/show/1167262.1_Peter    239   \n",
       "86381          NaN    https://goodreads.com/book/show/16111897-1066    212   \n",
       "61343  9.78071E+12      https://goodreads.com/book/show/138850.1066    336   \n",
       "85038  9.78271E+12      https://goodreads.com/book/show/16071333-14    124   \n",
       "...            ...                                              ...    ...   \n",
       "23325     9.79E+12         https://goodreads.com/book/show/11553117    202   \n",
       "98008  9.78994E+12         https://goodreads.com/book/show/17241707    768   \n",
       "98009  9.78994E+12         https://goodreads.com/book/show/17241732    590   \n",
       "97125          NaN         https://goodreads.com/book/show/17193415    525   \n",
       "51898          NaN         https://goodreads.com/book/show/13450646    116   \n",
       "\n",
       "       rating  reviews                                            title  \\\n",
       "5636     4.09        9                                          1 Peter   \n",
       "24553    4.06       10                                          1 Peter   \n",
       "86381    4.43        1                                             1066   \n",
       "61343    4.01       24                                             1066   \n",
       "85038    3.53      247                                               14   \n",
       "...       ...      ...                                              ...   \n",
       "23325    4.44      117  à¤µà¥à¤¯à¤•à¥à¤¤à¥€ à¤†à¤£à¤¿ à¤µà¤²à¥à¤²à¥€   \n",
       "98008    4.59        5            áƒ’áƒ›áƒ˜áƒ áƒ—áƒ áƒ•áƒáƒ áƒáƒ›áƒ˜   \n",
       "98009    4.52        2            áƒ’áƒ›áƒ˜áƒ áƒ—áƒ áƒ•áƒáƒ áƒáƒ›áƒ˜   \n",
       "97125    4.47        6                   áƒ›áƒáƒ—áƒ®áƒ áƒáƒ‘áƒ”áƒ‘áƒ˜   \n",
       "51898    4.48        5                   áƒ›áƒáƒ—áƒ®áƒ áƒáƒ‘áƒ”áƒ‘áƒ˜   \n",
       "\n",
       "       totalratings  \n",
       "5636             87  \n",
       "24553           204  \n",
       "86381             7  \n",
       "61343           187  \n",
       "85038          1648  \n",
       "...             ...  \n",
       "23325          3013  \n",
       "98008            59  \n",
       "98009            29  \n",
       "97125           135  \n",
       "51898           198  \n",
       "\n",
       "[4076 rows x 13 columns]"
      ]
     },
     "execution_count": 18,
     "metadata": {},
     "output_type": "execute_result"
    }
   ],
   "source": [
    "# Returns all of the books that have duplicated titles\n",
    "df.loc[df.duplicated([\"title\"], keep =False)].sort_values([\"title\"])\n"
   ]
  },
  {
   "cell_type": "code",
   "execution_count": 19,
   "metadata": {},
   "outputs": [
    {
     "data": {
      "text/plain": [
       "genre\n",
       "Nonfiction                                                                                                                                                                                           486\n",
       "History                                                                                                                                                                                              427\n",
       "Games,Chess                                                                                                                                                                                          197\n",
       "Esoterica,Astrology                                                                                                                                                                                  185\n",
       "Poetry                                                                                                                                                                                               168\n",
       "                                                                                                                                                                                                    ... \n",
       "Cultural,Canada,Sequential Art,Graphic Novels,Nonfiction,History,Biography,Feminism,Sequential Art,Comics,Historical                                                                                   1\n",
       "Religion,Theology,Christian,Christianity,Evangelism,Religion,Christianity,Nonfiction,Christian,Christian Living,Religion,Religion,Faith,Christianity,Discipleship,Christian,Christian Non Fiction      1\n",
       "Romance,Science Fiction,Science Fiction R...,Futuristic Romance,Romance,Science Fiction Romance,Futuristic,Fantasy,Paranormal,Fantasy,Romance,Paranormal Romance                                       1\n",
       "Prayer,Religion,Theology,Christian,Nonfiction,Christian,Christian Living,Religion,Christianity,Religion,Faith,Spirituality                                                                             1\n",
       "Nonfiction,History,Biography,Military History,Civil War,Childrens,Juvenile,North American Hi...,American History,Childrens,Middle Grade,War,Young Adult,Teen,Cultural,African American                 1\n",
       "Name: count, Length: 72129, dtype: int64"
      ]
     },
     "execution_count": 19,
     "metadata": {},
     "output_type": "execute_result"
    }
   ],
   "source": [
    "# Returns all possible genres\n",
    "df[\"genre\"].value_counts()"
   ]
  },
  {
   "cell_type": "markdown",
   "metadata": {},
   "source": [
    "## Data cleaning\n"
   ]
  },
  {
   "cell_type": "code",
   "execution_count": 20,
   "metadata": {},
   "outputs": [],
   "source": [
    "# Removes all duplicated titles \n",
    "df = df.drop_duplicates([\"title\"], keep = \"first\").reset_index(drop = True)\n",
    "\n"
   ]
  },
  {
   "cell_type": "code",
   "execution_count": 21,
   "metadata": {},
   "outputs": [],
   "source": [
    "# Drops unneccessary columns\n",
    "df = df.drop(['desc', 'isbn', 'link', 'isbn13', 'img', 'totalratings', 'bookformat'], axis=1)\n"
   ]
  },
  {
   "cell_type": "code",
   "execution_count": 22,
   "metadata": {},
   "outputs": [
    {
     "data": {
      "text/plain": [
       "Author         0\n",
       "Genre      10353\n",
       "Pages          0\n",
       "Rating         0\n",
       "Reviews        0\n",
       "Title          1\n",
       "dtype: int64"
      ]
     },
     "execution_count": 22,
     "metadata": {},
     "output_type": "execute_result"
    }
   ],
   "source": [
    "# Renames columns\n",
    "df = df.rename(columns={'author':'Author',\n",
    "                   'pages':'Pages',\n",
    "                   'genre':'Genre',\n",
    "                   'rating':'Rating',\n",
    "                   'reviews':'Reviews',\n",
    "                   'title':'Title'})\n",
    "\n",
    "df.isna().sum()"
   ]
  },
  {
   "cell_type": "code",
   "execution_count": 23,
   "metadata": {},
   "outputs": [],
   "source": [
    "# Drops null values for genre \n",
    "# because 10% of values are null and imputing the values will alter my analysis\n",
    "# I need the remaining values for my analysis, so I didn't delete the whole row\n",
    "df = df[df['Genre'].notna()]\n"
   ]
  },
  {
   "cell_type": "code",
   "execution_count": 24,
   "metadata": {},
   "outputs": [],
   "source": [
    "# Format strings\n",
    "# Essentially groups a lot of subgenres together because a lot of them are too specific \n",
    "# and very similar to each other.\n",
    "# I took the most common umbrella genres \n",
    "possible_genres = ['Mystery', 'Fantasy', 'History', 'Non Fiction', 'Religion', \"Romance\",  \n",
    "                   \"Science Fiction\", \"Biography\", \"Cultural\", \"Poetry\", \"Science\"]\n",
    "\n",
    "def organize_genre(current_genre):\n",
    "    for genre in possible_genres:\n",
    "        if genre in current_genre:\n",
    "            return genre\n",
    "    return \"Other\"\n",
    "\n",
    "df[\"Genre\"] = df[\"Genre\"].map(organize_genre)"
   ]
  },
  {
   "cell_type": "code",
   "execution_count": 25,
   "metadata": {},
   "outputs": [
    {
     "data": {
      "text/plain": [
       "Genre\n",
       "Other              24788\n",
       "History            13246\n",
       "Fantasy            13066\n",
       "Romance             9882\n",
       "Mystery             7336\n",
       "Cultural            5222\n",
       "Science             4812\n",
       "Religion            3857\n",
       "Biography           2096\n",
       "Science Fiction     1459\n",
       "Poetry              1040\n",
       "Non Fiction          432\n",
       "Name: count, dtype: int64"
      ]
     },
     "execution_count": 25,
     "metadata": {},
     "output_type": "execute_result"
    }
   ],
   "source": [
    "# New genre category counts\n",
    "df[\"Genre\"].value_counts()"
   ]
  },
  {
   "cell_type": "markdown",
   "metadata": {},
   "source": [
    "## Exploratory Data Analysis "
   ]
  },
  {
   "cell_type": "markdown",
   "metadata": {},
   "source": [
    "Univariate"
   ]
  },
  {
   "cell_type": "code",
   "execution_count": 26,
   "metadata": {},
   "outputs": [
    {
     "data": {
      "text/plain": [
       "<Axes: title={'center': 'Popular Book Ratings'}, xlabel='Rating'>"
      ]
     },
     "execution_count": 26,
     "metadata": {},
     "output_type": "execute_result"
    },
    {
     "data": {
      "image/png": "[encoded data removed]",
      "text/plain": [
       "<Figure size 640x480 with 1 Axes>"
      ]
     },
     "metadata": {},
     "output_type": "display_data"
    }
   ],
   "source": [
    "# Average book rating\n",
    "plt.title(\"Popular Book Ratings\")\n",
    "sns.boxplot(data=df, x=\"Rating\")"
   ]
  },
  {
   "cell_type": "code",
   "execution_count": 27,
   "metadata": {},
   "outputs": [
    {
     "data": {
      "text/html": [
       "<div>\n",
       "<style scoped>\n",
       "    .dataframe tbody tr th:only-of-type {\n",
       "        vertical-align: middle;\n",
       "    }\n",
       "\n",
       "    .dataframe tbody tr th {\n",
       "        vertical-align: top;\n",
       "    }\n",
       "\n",
       "    .dataframe thead th {\n",
       "        text-align: right;\n",
       "    }\n",
       "</style>\n",
       "<table border=\"1\" class=\"dataframe\">\n",
       "  <thead>\n",
       "    <tr style=\"text-align: right;\">\n",
       "      <th></th>\n",
       "      <th>Author</th>\n",
       "      <th>Genre</th>\n",
       "      <th>Pages</th>\n",
       "      <th>Rating</th>\n",
       "      <th>Reviews</th>\n",
       "      <th>Title</th>\n",
       "    </tr>\n",
       "  </thead>\n",
       "  <tbody>\n",
       "    <tr>\n",
       "      <th>237</th>\n",
       "      <td>James J. Lorence</td>\n",
       "      <td>History</td>\n",
       "      <td>328</td>\n",
       "      <td>0.0</td>\n",
       "      <td>0</td>\n",
       "      <td>The Unemployed People's Movement: Leftists, Li...</td>\n",
       "    </tr>\n",
       "    <tr>\n",
       "      <th>325</th>\n",
       "      <td>Aurel Bejancu</td>\n",
       "      <td>Science</td>\n",
       "      <td>300</td>\n",
       "      <td>0.0</td>\n",
       "      <td>0</td>\n",
       "      <td>Foliations and Geometric Structures</td>\n",
       "    </tr>\n",
       "    <tr>\n",
       "      <th>585</th>\n",
       "      <td>Gerald N. Grob</td>\n",
       "      <td>Other</td>\n",
       "      <td>240</td>\n",
       "      <td>0.0</td>\n",
       "      <td>0</td>\n",
       "      <td>Workers And Utopia: A Study Of Ideological Con...</td>\n",
       "    </tr>\n",
       "    <tr>\n",
       "      <th>605</th>\n",
       "      <td>A.T. Robertson</td>\n",
       "      <td>Other</td>\n",
       "      <td>0</td>\n",
       "      <td>0.0</td>\n",
       "      <td>0</td>\n",
       "      <td>KEYWORDS IN THE TEACHING OF JESUS   A T ROBERT...</td>\n",
       "    </tr>\n",
       "    <tr>\n",
       "      <th>1511</th>\n",
       "      <td>Stan McMurtry,Mark Bryant</td>\n",
       "      <td>Other</td>\n",
       "      <td>128</td>\n",
       "      <td>0.0</td>\n",
       "      <td>0</td>\n",
       "      <td>Mac 2000: Cartoons from the Daily Mail</td>\n",
       "    </tr>\n",
       "    <tr>\n",
       "      <th>...</th>\n",
       "      <td>...</td>\n",
       "      <td>...</td>\n",
       "      <td>...</td>\n",
       "      <td>...</td>\n",
       "      <td>...</td>\n",
       "      <td>...</td>\n",
       "    </tr>\n",
       "    <tr>\n",
       "      <th>93112</th>\n",
       "      <td>Anne-Emanuelle Birn</td>\n",
       "      <td>History</td>\n",
       "      <td>350</td>\n",
       "      <td>0.0</td>\n",
       "      <td>0</td>\n",
       "      <td>Comrades in Health: U.S. Health Internationali...</td>\n",
       "    </tr>\n",
       "    <tr>\n",
       "      <th>93198</th>\n",
       "      <td>Daniel J. Kaufman,Jay M. Parker,Patrick V. Howell</td>\n",
       "      <td>Science</td>\n",
       "      <td>0</td>\n",
       "      <td>0.0</td>\n",
       "      <td>0</td>\n",
       "      <td>Understanding International Relations: The Val...</td>\n",
       "    </tr>\n",
       "    <tr>\n",
       "      <th>93248</th>\n",
       "      <td>Richard V. Kadison,John R. Ringrose</td>\n",
       "      <td>Science</td>\n",
       "      <td>0</td>\n",
       "      <td>0.0</td>\n",
       "      <td>0</td>\n",
       "      <td>Fundamentals of the Theory of Operator Algebra...</td>\n",
       "    </tr>\n",
       "    <tr>\n",
       "      <th>93334</th>\n",
       "      <td>Bartosz BroÅ¼ek,Adam Olszewski,Mateusz Hohol</td>\n",
       "      <td>Religion</td>\n",
       "      <td>308</td>\n",
       "      <td>0.0</td>\n",
       "      <td>0</td>\n",
       "      <td>Logic in Theology</td>\n",
       "    </tr>\n",
       "    <tr>\n",
       "      <th>93974</th>\n",
       "      <td>Sarah Nichols</td>\n",
       "      <td>Other</td>\n",
       "      <td>0</td>\n",
       "      <td>0.0</td>\n",
       "      <td>0</td>\n",
       "      <td>Rachael</td>\n",
       "    </tr>\n",
       "  </tbody>\n",
       "</table>\n",
       "<p>149 rows × 6 columns</p>\n",
       "</div>"
      ],
      "text/plain": [
       "                                                  Author     Genre  Pages  \\\n",
       "237                                     James J. Lorence   History    328   \n",
       "325                                        Aurel Bejancu   Science    300   \n",
       "585                                       Gerald N. Grob     Other    240   \n",
       "605                                       A.T. Robertson     Other      0   \n",
       "1511                           Stan McMurtry,Mark Bryant     Other    128   \n",
       "...                                                  ...       ...    ...   \n",
       "93112                                Anne-Emanuelle Birn   History    350   \n",
       "93198  Daniel J. Kaufman,Jay M. Parker,Patrick V. Howell   Science      0   \n",
       "93248                Richard V. Kadison,John R. Ringrose   Science      0   \n",
       "93334       Bartosz BroÅ¼ek,Adam Olszewski,Mateusz Hohol  Religion    308   \n",
       "93974                                      Sarah Nichols     Other      0   \n",
       "\n",
       "       Rating  Reviews                                              Title  \n",
       "237       0.0        0  The Unemployed People's Movement: Leftists, Li...  \n",
       "325       0.0        0                Foliations and Geometric Structures  \n",
       "585       0.0        0  Workers And Utopia: A Study Of Ideological Con...  \n",
       "605       0.0        0  KEYWORDS IN THE TEACHING OF JESUS   A T ROBERT...  \n",
       "1511      0.0        0             Mac 2000: Cartoons from the Daily Mail  \n",
       "...       ...      ...                                                ...  \n",
       "93112     0.0        0  Comrades in Health: U.S. Health Internationali...  \n",
       "93198     0.0        0  Understanding International Relations: The Val...  \n",
       "93248     0.0        0  Fundamentals of the Theory of Operator Algebra...  \n",
       "93334     0.0        0                                  Logic in Theology  \n",
       "93974     0.0        0                                            Rachael  \n",
       "\n",
       "[149 rows x 6 columns]"
      ]
     },
     "execution_count": 27,
     "metadata": {},
     "output_type": "execute_result"
    }
   ],
   "source": [
    "df.query(\"Rating == 0\")"
   ]
  },
  {
   "cell_type": "markdown",
   "metadata": {},
   "source": [
    "There are several outliers where the rating appears to be 0. There are some bad books, but an average of 0 seems unrealistic. I took a look at those books, and it turns out that they all have 0 ratings. "
   ]
  },
  {
   "cell_type": "code",
   "execution_count": 38,
   "metadata": {},
   "outputs": [
    {
     "data": {
      "text/plain": [
       "3.8901686230455317"
      ]
     },
     "execution_count": 38,
     "metadata": {},
     "output_type": "execute_result"
    }
   ],
   "source": [
    "df[\"Rating\"].mean()\n",
    "\n",
    "df[\"Rating\"].mode()\n",
    "\n",
    "df[\"Rating\"].mean()\n",
    "\n",
    "df[\"Rating\"].var()"
   ]
  },
  {
   "cell_type": "markdown",
   "metadata": {},
   "source": [
    "Multivariate "
   ]
  },
  {
   "cell_type": "code",
   "execution_count": 28,
   "metadata": {},
   "outputs": [
    {
     "data": {
      "text/plain": [
       "(0.0, 10000.0)"
      ]
     },
     "execution_count": 28,
     "metadata": {},
     "output_type": "execute_result"
    },
    {
     "data": {
      "image/png": "[encoded data removed]",
      "text/plain": [
       "<Figure size 1400x500 with 1 Axes>"
      ]
     },
     "metadata": {},
     "output_type": "display_data"
    }
   ],
   "source": [
    "plt.figure(figsize=(14,5))\n",
    "plt.title(\"Genre vs. Pages\")\n",
    "\n",
    "sns.scatterplot(data=df, x=\"Genre\", y=\"Pages\")\n",
    "# To limit the range of the y-axis \n",
    "plt.ylim(0, 10000)"
   ]
  },
  {
   "cell_type": "markdown",
   "metadata": {},
   "source": [
    "## Statistical Analysis"
   ]
  },
  {
   "cell_type": "markdown",
   "metadata": {},
   "source": [
    "What are the most popular genres?"
   ]
  },
  {
   "cell_type": "code",
   "execution_count": 29,
   "metadata": {},
   "outputs": [
    {
     "data": {
      "text/plain": [
       "<Axes: title={'center': 'Genre Popularity'}, xlabel='Genre', ylabel='Count'>"
      ]
     },
     "execution_count": 29,
     "metadata": {},
     "output_type": "execute_result"
    },
    {
     "data": {
      "image/png": "[encoded data removed]",
      "text/plain": [
       "<Figure size 1400x500 with 1 Axes>"
      ]
     },
     "metadata": {},
     "output_type": "display_data"
    }
   ],
   "source": [
    "# Genre popularity\n",
    "plt.figure(figsize=(14,5))\n",
    "plt.title(\"Genre Popularity\")\n",
    "sns.histplot(data=df, x=\"Genre\")"
   ]
  },
  {
   "cell_type": "markdown",
   "metadata": {},
   "source": [
    "It appears that fantasy, history, romance, and mystery are the most popular. However, there are also a lot of books categorized as \"other,\" and they comprise of many unique genres that couldn't easily be categorized."
   ]
  },
  {
   "cell_type": "markdown",
   "metadata": {},
   "source": [
    "Are more popular books necessarily higher-rated?"
   ]
  },
  {
   "cell_type": "code",
   "execution_count": 30,
   "metadata": {},
   "outputs": [
    {
     "data": {
      "text/plain": [
       "<Axes: title={'center': 'Number of Reviews vs. Average Rating'}, xlabel='Reviews', ylabel='Rating'>"
      ]
     },
     "execution_count": 30,
     "metadata": {},
     "output_type": "execute_result"
    },
    {
     "data": {
      "image/png": "[encoded data removed]",
      "text/plain": [
       "<Figure size 640x480 with 1 Axes>"
      ]
     },
     "metadata": {},
     "output_type": "display_data"
    }
   ],
   "source": [
    "plt.title(\"Number of Reviews vs. Average Rating\")\n",
    "sns.scatterplot(data=df, x=\"Reviews\", y=\"Rating\")"
   ]
  },
  {
   "cell_type": "markdown",
   "metadata": {},
   "source": [
    "Popular books/books with lots of reviews are rated highly, but lots of unpopular books are too. This could suggest that people rate books with somewhat of a popularity bias, or that many of the really popular books are popular because they are simply well-written"
   ]
  },
  {
   "cell_type": "markdown",
   "metadata": {},
   "source": [
    "Who are the most popular authors?"
   ]
  },
  {
   "cell_type": "code",
   "execution_count": 31,
   "metadata": {},
   "outputs": [
    {
     "name": "stdout",
     "output_type": "stream",
     "text": [
      "                Author     Genre  Pages  Rating  Reviews  \\\n",
      "5      Jeffrey Pfeffer   Romance    368    3.73        7   \n",
      "6      Jeffrey Pfeffer   Romance    304    3.65        1   \n",
      "12     Graham Purchase     Other    216    3.59        3   \n",
      "14     Graham Purchase     Other      0    3.44        1   \n",
      "15       Philip Mansel   History    256    3.58        5   \n",
      "...                ...       ...    ...     ...      ...   \n",
      "97581   John Lescroart   Mystery    468    4.03      156   \n",
      "97582     Philip Hoare   History    350    3.77       74   \n",
      "97583       Sarah Lean   Mystery    288    3.97       94   \n",
      "97586   C. John Miller  Religion    160    4.27       20   \n",
      "97587    Albert Marrin   History    256    3.63       51   \n",
      "\n",
      "                                                   Title  \n",
      "5      The Human Equation: Building Profits by Puttin...  \n",
      "6      Competitive Advantage Through People: Unleashi...  \n",
      "12                                 Anarchism And Ecology  \n",
      "14                    Anarchism & Environmental Survival  \n",
      "15     Dressed to Rule: Royal and Court Costume from ...  \n",
      "...                                                  ...  \n",
      "97581                                           The Oath  \n",
      "97582                                     The Sea Inside  \n",
      "97583                                  A Horse for Angel  \n",
      "97586  A Faith Worth Sharing: A Lifetime of Conversat...  \n",
      "97587  A Volcano Beneath the Snow: John Brown's War A...  \n",
      "\n",
      "[38825 rows x 6 columns]\n"
     ]
    }
   ],
   "source": [
    "# Finding most popular authors: \n",
    "\n",
    "# STEP 1: Group books by the same author together\n",
    "print(df.loc[df.duplicated([\"Author\"], keep = False)])"
   ]
  },
  {
   "cell_type": "code",
   "execution_count": 32,
   "metadata": {},
   "outputs": [],
   "source": [
    "# STEP 2: Make a dictionary of all authors\n",
    "all_authors = dict.fromkeys(df[\"Author\"].value_counts().index)\n",
    "\n",
    "# STEP 3: Assign values to each author key\n",
    "for author in all_authors.keys(): \n",
    "    review_tally = 0\n",
    "    # Isolates the rows that have this author \n",
    "    # Reference source: https://stackoverflow.com/questions/16476924/how-to-iterate-over-rows-in-a-pandas-dataframe\n",
    "    for index, row in df[df[\"Author\"] == author].iterrows(): \n",
    "        review_tally += row[\"Reviews\"]\n",
    "    all_authors[author] = review_tally\n",
    "        \n",
    "\n",
    "\n",
    "    \n",
    "    "
   ]
  },
  {
   "cell_type": "code",
   "execution_count": 33,
   "metadata": {},
   "outputs": [
    {
     "name": "stdout",
     "output_type": "stream",
     "text": [
      "[('Stephen King', 209634), ('Veronica Roth', 174340), ('John Green', 159543), ('Agatha Christie', 146235), ('E.L. James', 141696)]\n"
     ]
    }
   ],
   "source": [
    "# STEP 4: Sort the dictionary\n",
    "# Reference source: https://stackoverflow.com/questions/613183/how-do-i-sort-a-dictionary-by-value\n",
    "\n",
    "sorted_authors = sorted(all_authors.items(), key=lambda item: item[1], reverse=True)\n",
    "\n",
    "print(sorted_authors[:5])\n"
   ]
  },
  {
   "cell_type": "markdown",
   "metadata": {},
   "source": [
    "The most popular authors are Stephen King, Veronica Roth, John Green, Agatha Christie, and E.L. James"
   ]
  }
 ],
 "metadata": {
  "kernelspec": {
   "display_name": ".venv",
   "language": "python",
   "name": "python3"
  },
  "language_info": {
   "codemirror_mode": {
    "name": "ipython",
    "version": 3
   },
   "file_extension": ".py",
   "mimetype": "text/x-python",
   "name": "python",
   "nbconvert_exporter": "python",
   "pygments_lexer": "ipython3",
   "version": "3.9.6"
  },
  "orig_nbformat": 4
 },
 "nbformat": 4,
 "nbformat_minor": 2
}
